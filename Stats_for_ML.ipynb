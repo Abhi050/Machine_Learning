{
  "nbformat": 4,
  "nbformat_minor": 0,
  "metadata": {
    "colab": {
      "name": "Stats-for-ML.ipynb",
      "version": "0.3.2",
      "provenance": [],
      "include_colab_link": true
    },
    "kernelspec": {
      "name": "python3",
      "display_name": "Python 3"
    }
  },
  "cells": [
    {
      "cell_type": "markdown",
      "metadata": {
        "id": "view-in-github",
        "colab_type": "text"
      },
      "source": [
        "<a href=\"https://colab.research.google.com/github/Abhi050/Machine_Learning/blob/master/Stats_for_ML.ipynb\" target=\"_parent\"><img src=\"https://colab.research.google.com/assets/colab-badge.svg\" alt=\"Open In Colab\"/></a>"
      ]
    },
    {
      "cell_type": "code",
      "metadata": {
        "id": "mRMWYHD2aro1",
        "colab_type": "code",
        "colab": {}
      },
      "source": [
        "import pandas as pd\n",
        "import numpy as np\n",
        "import matplotlib.pyplot as plt"
      ],
      "execution_count": 0,
      "outputs": []
    },
    {
      "cell_type": "code",
      "metadata": {
        "id": "ktZIkSFdbU7v",
        "colab_type": "code",
        "colab": {}
      },
      "source": [
        "data = np.array([15,20,25,28,24,26,27,26,25,31,33])"
      ],
      "execution_count": 0,
      "outputs": []
    },
    {
      "cell_type": "code",
      "metadata": {
        "id": "EmETX8BUbXsm",
        "colab_type": "code",
        "colab": {
          "base_uri": "https://localhost:8080/",
          "height": 370
        },
        "outputId": "710e9d1e-a1d6-4ad4-fd8d-9bca6df28ee7"
      },
      "source": [
        "df = pd.DataFrame(data)\n",
        "print(df)\n",
        "print(df.describe())"
      ],
      "execution_count": 5,
      "outputs": [
        {
          "output_type": "stream",
          "text": [
            "     0\n",
            "0   15\n",
            "1   20\n",
            "2   25\n",
            "3   28\n",
            "4   24\n",
            "5   26\n",
            "6   27\n",
            "7   26\n",
            "8   25\n",
            "9   31\n",
            "10  33\n",
            "               0\n",
            "count  11.000000\n",
            "mean   25.454545\n",
            "std     4.885973\n",
            "min    15.000000\n",
            "25%    24.500000\n",
            "50%    26.000000\n",
            "75%    27.500000\n",
            "max    33.000000\n"
          ],
          "name": "stdout"
        }
      ]
    },
    {
      "cell_type": "markdown",
      "metadata": {
        "id": "U6TUTBUKcMwq",
        "colab_type": "text"
      },
      "source": [
        "the above values of are q1,q2,q3 of box-whisker plot\n"
      ]
    },
    {
      "cell_type": "code",
      "metadata": {
        "id": "tOXm2Mp7bn1k",
        "colab_type": "code",
        "colab": {
          "base_uri": "https://localhost:8080/",
          "height": 415
        },
        "outputId": "a823f47b-f301-48a2-95f8-fc9f57102c04"
      },
      "source": [
        "fig1,ax1 = plt.subplots()\n",
        "ax1.set_title(\"Basic Plot\")\n",
        "ax1.boxplot(data)"
      ],
      "execution_count": 6,
      "outputs": [
        {
          "output_type": "execute_result",
          "data": {
            "text/plain": [
              "{'boxes': [<matplotlib.lines.Line2D at 0x7fae6c047ac8>],\n",
              " 'caps': [<matplotlib.lines.Line2D at 0x7fae6bfdd320>,\n",
              "  <matplotlib.lines.Line2D at 0x7fae6bfdd668>],\n",
              " 'fliers': [<matplotlib.lines.Line2D at 0x7fae6bfddcf8>],\n",
              " 'means': [],\n",
              " 'medians': [<matplotlib.lines.Line2D at 0x7fae6bfdd9b0>],\n",
              " 'whiskers': [<matplotlib.lines.Line2D at 0x7fae6c047c50>,\n",
              "  <matplotlib.lines.Line2D at 0x7fae6c047f98>]}"
            ]
          },
          "metadata": {
            "tags": []
          },
          "execution_count": 6
        },
        {
          "output_type": "display_data",
          "data": {
            "image/png": "[encoded data removed]",
            "text/plain": [
              "<Figure size 432x288 with 1 Axes>"
            ]
          },
          "metadata": {
            "tags": []
          }
        }
      ]
    },
    {
      "cell_type": "markdown",
      "metadata": {
        "id": "5o9xnVkpcaht",
        "colab_type": "text"
      },
      "source": [
        "This is the graph of box-whisker plot"
      ]
    },
    {
      "cell_type": "code",
      "metadata": {
        "id": "PYfRIobob7ls",
        "colab_type": "code",
        "colab": {}
      },
      "source": [
        ""
      ],
      "execution_count": 0,
      "outputs": []
    }
  ]
}