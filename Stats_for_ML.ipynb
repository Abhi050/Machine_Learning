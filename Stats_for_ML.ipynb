{
  "nbformat": 4,
  "nbformat_minor": 0,
  "metadata": {
    "colab": {
      "name": "Stats-for-ML.ipynb",
      "version": "0.3.2",
      "provenance": [],
      "include_colab_link": true
    },
    "kernelspec": {
      "name": "python3",
      "display_name": "Python 3"
    }
  },
  "cells": [
    {
      "cell_type": "markdown",
      "metadata": {
        "id": "view-in-github",
        "colab_type": "text"
      },
      "source": [
        "<a href=\"https://colab.research.google.com/github/Abhi050/Machine_Learning/blob/master/Stats_for_ML.ipynb\" target=\"_parent\"><img src=\"https://colab.research.google.com/assets/colab-badge.svg\" alt=\"Open In Colab\"/></a>"
      ]
    },
    {
      "cell_type": "code",
      "metadata": {
        "id": "mRMWYHD2aro1",
        "colab_type": "code",
        "colab": {}
      },
      "source": [
        "import pandas as pd\n",
        "import numpy as np\n",
        "import matplotlib.pyplot as plt"
      ],
      "execution_count": 0,
      "outputs": []
    },
    {
      "cell_type": "code",
      "metadata": {
        "id": "ktZIkSFdbU7v",
        "colab_type": "code",
        "colab": {}
      },
      "source": [
        "data = np.array([15,20,25,28,24,26,27,26,25,31,33])"
      ],
      "execution_count": 0,
      "outputs": []
    },
    {
      "cell_type": "code",
      "metadata": {
        "id": "EmETX8BUbXsm",
        "colab_type": "code",
        "colab": {
          "base_uri": "https://localhost:8080/",
          "height": 370
        },
        "outputId": "d594ec78-731a-4717-b039-d2839bd1b19e"
      },
      "source": [
        "df = pd.DataFrame(data)\n",
        "print(df)\n",
        "print(df.describe())"
      ],
      "execution_count": 3,
      "outputs": [
        {
          "output_type": "stream",
          "text": [
            "     0\n",
            "0   15\n",
            "1   20\n",
            "2   25\n",
            "3   28\n",
            "4   24\n",
            "5   26\n",
            "6   27\n",
            "7   26\n",
            "8   25\n",
            "9   31\n",
            "10  33\n",
            "               0\n",
            "count  11.000000\n",
            "mean   25.454545\n",
            "std     4.885973\n",
            "min    15.000000\n",
            "25%    24.500000\n",
            "50%    26.000000\n",
            "75%    27.500000\n",
            "max    33.000000\n"
          ],
          "name": "stdout"
        }
      ]
    },
    {
      "cell_type": "markdown",
      "metadata": {
        "id": "U6TUTBUKcMwq",
        "colab_type": "text"
      },
      "source": [
        "the above values of are q1,q2,q3 of box-whisker plot\n"
      ]
    },
    {
      "cell_type": "code",
      "metadata": {
        "id": "tOXm2Mp7bn1k",
        "colab_type": "code",
        "colab": {
          "base_uri": "https://localhost:8080/",
          "height": 415
        },
        "outputId": "f687a9b4-071a-4592-86c9-9adac29b0ec1"
      },
      "source": [
        "fig1,ax1 = plt.subplots()\n",
        "ax1.set_title(\"Basic Plot\")\n",
        "ax1.boxplot(data)"
      ],
      "execution_count": 4,
      "outputs": [
        {
          "output_type": "execute_result",
          "data": {
            "text/plain": [
              "{'boxes': [<matplotlib.lines.Line2D at 0x7eff7ad6f748>],\n",
              " 'caps': [<matplotlib.lines.Line2D at 0x7eff7ad6ff60>,\n",
              "  <matplotlib.lines.Line2D at 0x7eff7ad072e8>],\n",
              " 'fliers': [<matplotlib.lines.Line2D at 0x7eff7ad07978>],\n",
              " 'means': [],\n",
              " 'medians': [<matplotlib.lines.Line2D at 0x7eff7ad07630>],\n",
              " 'whiskers': [<matplotlib.lines.Line2D at 0x7eff7ad6f8d0>,\n",
              "  <matplotlib.lines.Line2D at 0x7eff7ad6fc18>]}"
            ]
          },
          "metadata": {
            "tags": []
          },
          "execution_count": 4
        },
        {
          "output_type": "display_data",
          "data": {
            "image/png": "[encoded data removed]",
            "text/plain": [
              "<Figure size 432x288 with 1 Axes>"
            ]
          },
          "metadata": {
            "tags": []
          }
        }
      ]
    },
    {
      "cell_type": "markdown",
      "metadata": {
        "id": "5o9xnVkpcaht",
        "colab_type": "text"
      },
      "source": [
        "This is the graph of box-whisker plot"
      ]
    },
    {
      "cell_type": "markdown",
      "metadata": {
        "id": "tNjCODp1wkCI",
        "colab_type": "text"
      },
      "source": [
        "####################################################################\n",
        "\n",
        "**BASIC STATS AND DATA VISUALIZATION**\n",
        "\n",
        "DATASET: pima indians diabetes dataset"
      ]
    },
    {
      "cell_type": "code",
      "metadata": {
        "id": "-YSpu8yJw5Jy",
        "colab_type": "code",
        "colab": {}
      },
      "source": [
        "\n",
        "names=[\"preg\",\"plas\",\"pres\",\"skin\",\"test\",\"mass\",\"pedi\",\"age\",\"class\"]\n",
        "df = pd.read_csv(\"diabetes.csv\",names=names)"
      ],
      "execution_count": 0,
      "outputs": []
    },
    {
      "cell_type": "code",
      "metadata": {
        "id": "Mffje2VsxLFK",
        "colab_type": "code",
        "colab": {
          "base_uri": "https://localhost:8080/",
          "height": 272
        },
        "outputId": "8e4df74d-50f6-4662-8929-9b0b64d904df"
      },
      "source": [
        "print(df.head())\n",
        "print(df.shape)\n",
        "print(df.describe())\n"
      ],
      "execution_count": 6,
      "outputs": [
        {
          "output_type": "stream",
          "text": [
            "          preg     plas           pres  ...                      pedi  age    class\n",
            "0  Pregnancies  Glucose  BloodPressure  ...  DiabetesPedigreeFunction  Age  Outcome\n",
            "1            6      148             72  ...                     0.627   50        1\n",
            "2            1       85             66  ...                     0.351   31        0\n",
            "3            8      183             64  ...                     0.672   32        1\n",
            "4            1       89             66  ...                     0.167   21        0\n",
            "\n",
            "[5 rows x 9 columns]\n",
            "(769, 9)\n",
            "       preg plas pres skin test mass   pedi  age class\n",
            "count   769  769  769  769  769  769    769  769   769\n",
            "unique   18  137   48   52  187  249    518   53     3\n",
            "top       1   99   70    0    0   32  0.254   22     0\n",
            "freq    135   17   57  227  374   13      6   72   500\n"
          ],
          "name": "stdout"
        }
      ]
    },
    {
      "cell_type": "code",
      "metadata": {
        "id": "R3taMJe4xpZr",
        "colab_type": "code",
        "colab": {
          "base_uri": "https://localhost:8080/",
          "height": 101
        },
        "outputId": "23a4c0cb-cbed-47f9-9ed4-799b66e50610"
      },
      "source": [
        "pd.set_option(\"precision\",2)\n",
        "print(df.describe())"
      ],
      "execution_count": 7,
      "outputs": [
        {
          "output_type": "stream",
          "text": [
            "       preg plas pres skin test mass   pedi  age class\n",
            "count   769  769  769  769  769  769    769  769   769\n",
            "unique   18  137   48   52  187  249    518   53     3\n",
            "top       1   99   70    0    0   32  0.254   22     0\n",
            "freq    135   17   57  227  374   13      6   72   500\n"
          ],
          "name": "stdout"
        }
      ]
    },
    {
      "cell_type": "code",
      "metadata": {
        "id": "OTDg0b-mx4Xx",
        "colab_type": "code",
        "colab": {
          "base_uri": "https://localhost:8080/",
          "height": 101
        },
        "outputId": "bf7d75f4-370f-4c27-c57f-f9aaf5c3b8c4"
      },
      "source": [
        "class_counts=df.groupby(\"class\").size()\n",
        "print(class_counts)"
      ],
      "execution_count": 8,
      "outputs": [
        {
          "output_type": "stream",
          "text": [
            "class\n",
            "0          500\n",
            "1          268\n",
            "Outcome      1\n",
            "dtype: int64\n"
          ],
          "name": "stdout"
        }
      ]
    },
    {
      "cell_type": "code",
      "metadata": {
        "id": "dYuSK91MyB8N",
        "colab_type": "code",
        "colab": {
          "base_uri": "https://localhost:8080/",
          "height": 272
        },
        "outputId": "31e38fa0-c4ab-4d97-9f1a-cfb43fee30fe"
      },
      "source": [
        "fig,ax =plt.subplots()\n",
        "df[\"class\"].value_counts().plot(ax=ax,kind=\"pie\")\n"
      ],
      "execution_count": 9,
      "outputs": [
        {
          "output_type": "execute_result",
          "data": {
            "text/plain": [
              "<matplotlib.axes._subplots.AxesSubplot at 0x7eff784844a8>"
            ]
          },
          "metadata": {
            "tags": []
          },
          "execution_count": 9
        },
        {
          "output_type": "display_data",
          "data": {
            "image/png": "[encoded data removed]",
            "text/plain": [
              "<Figure size 432x288 with 1 Axes>"
            ]
          },
          "metadata": {
            "tags": []
          }
        }
      ]
    },
    {
      "cell_type": "code",
      "metadata": {
        "id": "VKJnJZLczURi",
        "colab_type": "code",
        "colab": {
          "base_uri": "https://localhost:8080/",
          "height": 656
        },
        "outputId": "523034ad-699d-400f-dbf7-da783d31f129"
      },
      "source": [
        "print(df[\"preg\"].value_counts(sort=True))\n",
        "fig,ax =plt.subplots()\n",
        "df[\"preg\"].value_counts().plot(ax=ax,kind=\"bar\")#kind=pie\n"
      ],
      "execution_count": 10,
      "outputs": [
        {
          "output_type": "stream",
          "text": [
            "1              135\n",
            "0              111\n",
            "2              103\n",
            "3               75\n",
            "4               68\n",
            "5               57\n",
            "6               50\n",
            "7               45\n",
            "8               38\n",
            "9               28\n",
            "10              24\n",
            "11              11\n",
            "13              10\n",
            "12               9\n",
            "14               2\n",
            "Pregnancies      1\n",
            "15               1\n",
            "17               1\n",
            "Name: preg, dtype: int64\n"
          ],
          "name": "stdout"
        },
        {
          "output_type": "execute_result",
          "data": {
            "text/plain": [
              "<matplotlib.axes._subplots.AxesSubplot at 0x7eff7844e320>"
            ]
          },
          "metadata": {
            "tags": []
          },
          "execution_count": 10
        },
        {
          "output_type": "display_data",
          "data": {
            "image/png": "[encoded data removed]",
            "text/plain": [
              "<Figure size 432x288 with 1 Axes>"
            ]
          },
          "metadata": {
            "tags": []
          }
        }
      ]
    },
    {
      "cell_type": "code",
      "metadata": {
        "id": "ePr9cE7B0FMN",
        "colab_type": "code",
        "colab": {
          "base_uri": "https://localhost:8080/",
          "height": 50
        },
        "outputId": "fa50c4fd-7aa8-4b26-9f4e-9943152e6f99"
      },
      "source": [
        "df[\"preg\"].value_counts().mode()"
      ],
      "execution_count": 11,
      "outputs": [
        {
          "output_type": "execute_result",
          "data": {
            "text/plain": [
              "0    1\n",
              "dtype: int64"
            ]
          },
          "metadata": {
            "tags": []
          },
          "execution_count": 11
        }
      ]
    },
    {
      "cell_type": "code",
      "metadata": {
        "id": "ClEF7e4C0cQx",
        "colab_type": "code",
        "colab": {
          "base_uri": "https://localhost:8080/",
          "height": 281
        },
        "outputId": "96c1f51d-5d29-450b-e81e-4c8e4948a761"
      },
      "source": [
        "df=df[1:].astype(np.float)\n",
        "df.hist()\n",
        "plt.show()"
      ],
      "execution_count": 13,
      "outputs": [
        {
          "output_type": "display_data",
          "data": {
            "image/png": "[encoded data removed]",
            "text/plain": [
              "<Figure size 432x288 with 9 Axes>"
            ]
          },
          "metadata": {
            "tags": []
          }
        }
      ]
    },
    {
      "cell_type": "code",
      "metadata": {
        "id": "2-F4LXK40iy3",
        "colab_type": "code",
        "colab": {
          "base_uri": "https://localhost:8080/",
          "height": 269
        },
        "outputId": "b314ec1b-bea5-4f1b-95d8-e8075c822e89"
      },
      "source": [
        "df[\"age\"].hist()\n",
        "plt.show()"
      ],
      "execution_count": 14,
      "outputs": [
        {
          "output_type": "display_data",
          "data": {
            "image/png": "[encoded data removed]",
            "text/plain": [
              "<Figure size 432x288 with 1 Axes>"
            ]
          },
          "metadata": {
            "tags": []
          }
        }
      ]
    },
    {
      "cell_type": "code",
      "metadata": {
        "id": "IWnkIGCR3Kjn",
        "colab_type": "code",
        "colab": {
          "base_uri": "https://localhost:8080/",
          "height": 1075
        },
        "outputId": "b5d0e84e-d578-4b14-9d4d-fcd824a4e251"
      },
      "source": [
        "print(df[\"age\"])\n",
        "skews=df[\"age\"].skew()\n",
        "print(skews)"
      ],
      "execution_count": 15,
      "outputs": [
        {
          "output_type": "stream",
          "text": [
            "1      50.0\n",
            "2      31.0\n",
            "3      32.0\n",
            "4      21.0\n",
            "5      33.0\n",
            "6      30.0\n",
            "7      26.0\n",
            "8      29.0\n",
            "9      53.0\n",
            "10     54.0\n",
            "11     30.0\n",
            "12     34.0\n",
            "13     57.0\n",
            "14     59.0\n",
            "15     51.0\n",
            "16     32.0\n",
            "17     31.0\n",
            "18     31.0\n",
            "19     33.0\n",
            "20     32.0\n",
            "21     27.0\n",
            "22     50.0\n",
            "23     41.0\n",
            "24     29.0\n",
            "25     51.0\n",
            "26     41.0\n",
            "27     43.0\n",
            "28     22.0\n",
            "29     57.0\n",
            "30     38.0\n",
            "       ... \n",
            "739    21.0\n",
            "740    42.0\n",
            "741    48.0\n",
            "742    26.0\n",
            "743    22.0\n",
            "744    45.0\n",
            "745    39.0\n",
            "746    46.0\n",
            "747    27.0\n",
            "748    32.0\n",
            "749    36.0\n",
            "750    50.0\n",
            "751    22.0\n",
            "752    28.0\n",
            "753    25.0\n",
            "754    26.0\n",
            "755    45.0\n",
            "756    37.0\n",
            "757    39.0\n",
            "758    52.0\n",
            "759    26.0\n",
            "760    66.0\n",
            "761    22.0\n",
            "762    43.0\n",
            "763    33.0\n",
            "764    63.0\n",
            "765    27.0\n",
            "766    30.0\n",
            "767    47.0\n",
            "768    23.0\n",
            "Name: age, Length: 768, dtype: float64\n",
            "1.1295967011444805\n"
          ],
          "name": "stdout"
        }
      ]
    },
    {
      "cell_type": "code",
      "metadata": {
        "id": "gOuH05Mo3Red",
        "colab_type": "code",
        "colab": {
          "base_uri": "https://localhost:8080/",
          "height": 269
        },
        "outputId": "49f905ad-6000-42f2-f0d8-882d4800c664"
      },
      "source": [
        "df.plot(kind=\"box\",subplots=True,layout=(3,3))\n",
        "plt.show()"
      ],
      "execution_count": 16,
      "outputs": [
        {
          "output_type": "display_data",
          "data": {
            "image/png": "[encoded data removed]",
            "text/plain": [
              "<Figure size 432x288 with 9 Axes>"
            ]
          },
          "metadata": {
            "tags": []
          }
        }
      ]
    },
    {
      "cell_type": "code",
      "metadata": {
        "id": "ar7TCuk439Cj",
        "colab_type": "code",
        "colab": {
          "base_uri": "https://localhost:8080/",
          "height": 286
        },
        "outputId": "2a8d790a-6302-4903-acaa-293d013fb1b3"
      },
      "source": [
        "df['plas'].plot(kind=\"box\")"
      ],
      "execution_count": 17,
      "outputs": [
        {
          "output_type": "execute_result",
          "data": {
            "text/plain": [
              "<matplotlib.axes._subplots.AxesSubplot at 0x7eff77fa1470>"
            ]
          },
          "metadata": {
            "tags": []
          },
          "execution_count": 17
        },
        {
          "output_type": "display_data",
          "data": {
            "image/png": "[encoded data removed]",
            "text/plain": [
              "<Figure size 432x288 with 1 Axes>"
            ]
          },
          "metadata": {
            "tags": []
          }
        }
      ]
    },
    {
      "cell_type": "code",
      "metadata": {
        "id": "ZCkxQt5k4Vkj",
        "colab_type": "code",
        "colab": {
          "base_uri": "https://localhost:8080/",
          "height": 300
        },
        "outputId": "8910b25c-e613-4985-f84d-25d208c8831c"
      },
      "source": [
        "df.plot.scatter(x=\"age\",y=\"preg\")"
      ],
      "execution_count": 18,
      "outputs": [
        {
          "output_type": "execute_result",
          "data": {
            "text/plain": [
              "<matplotlib.axes._subplots.AxesSubplot at 0x7eff77f5a128>"
            ]
          },
          "metadata": {
            "tags": []
          },
          "execution_count": 18
        },
        {
          "output_type": "display_data",
          "data": {
            "image/png": "[encoded data removed]",
            "text/plain": [
              "<Figure size 432x288 with 1 Axes>"
            ]
          },
          "metadata": {
            "tags": []
          }
        }
      ]
    },
    {
      "cell_type": "markdown",
      "metadata": {
        "id": "L3jhPU4KReiA",
        "colab_type": "text"
      },
      "source": [
        ""
      ]
    },
    {
      "cell_type": "markdown",
      "metadata": {
        "id": "sC9e8OIiRgTO",
        "colab_type": "text"
      },
      "source": [
        "#####IN SAME WAY WE CAN DO FOR CORRELATION,BOX-WHISKER PLOT,ETC."
      ]
    },
    {
      "cell_type": "markdown",
      "metadata": {
        "id": "CLy0jmuNRq31",
        "colab_type": "text"
      },
      "source": [
        "#################################\n",
        "\n",
        "LINEAR REGRESSION USING mtcars dataset\n",
        "\n",
        "TAsk is to predict mileage from the given data"
      ]
    },
    {
      "cell_type": "code",
      "metadata": {
        "id": "Uf4Cg09SR4bz",
        "colab_type": "code",
        "colab": {
          "base_uri": "https://localhost:8080/",
          "height": 658
        },
        "outputId": "fcd2ab24-b918-4036-c833-440c47191906"
      },
      "source": [
        "df1=pd.read_csv(\"mtcars.csv\")\n",
        "print(df1.head())\n",
        "print(df1.describe())\n",
        "print(df.info())"
      ],
      "execution_count": 38,
      "outputs": [
        {
          "output_type": "stream",
          "text": [
            "          Unnamed: 0   mpg  cyl   disp   hp  ...   qsec  vs  am  gear  carb\n",
            "0          Mazda RX4  21.0    6  160.0  110  ...  16.46   0   1     4     4\n",
            "1      Mazda RX4 Wag  21.0    6  160.0  110  ...  17.02   0   1     4     4\n",
            "2         Datsun 710  22.8    4  108.0   93  ...  18.61   1   1     4     1\n",
            "3     Hornet 4 Drive  21.4    6  258.0  110  ...  19.44   1   0     3     1\n",
            "4  Hornet Sportabout  18.7    8  360.0  175  ...  17.02   0   0     3     2\n",
            "\n",
            "[5 rows x 12 columns]\n",
            "         mpg    cyl    disp      hp   drat  ...   qsec     vs     am   gear   carb\n",
            "count  32.00  32.00   32.00   32.00  32.00  ...  32.00  32.00  32.00  32.00  32.00\n",
            "mean   20.09   6.19  230.72  146.69   3.60  ...  17.85   0.44   0.41   3.69   2.81\n",
            "std     6.03   1.79  123.94   68.56   0.53  ...   1.79   0.50   0.50   0.74   1.62\n",
            "min    10.40   4.00   71.10   52.00   2.76  ...  14.50   0.00   0.00   3.00   1.00\n",
            "25%    15.43   4.00  120.83   96.50   3.08  ...  16.89   0.00   0.00   3.00   2.00\n",
            "50%    19.20   6.00  196.30  123.00   3.70  ...  17.71   0.00   0.00   4.00   2.00\n",
            "75%    22.80   8.00  326.00  180.00   3.92  ...  18.90   1.00   1.00   4.00   4.00\n",
            "max    33.90   8.00  472.00  335.00   4.93  ...  22.90   1.00   1.00   5.00   8.00\n",
            "\n",
            "[8 rows x 11 columns]\n",
            "<class 'pandas.core.frame.DataFrame'>\n",
            "RangeIndex: 32 entries, 0 to 31\n",
            "Data columns (total 12 columns):\n",
            "Unnamed: 0    32 non-null object\n",
            "mpg           32 non-null float64\n",
            "cyl           32 non-null int64\n",
            "disp          32 non-null float64\n",
            "hp            32 non-null int64\n",
            "drat          32 non-null float64\n",
            "wt            32 non-null float64\n",
            "qsec          32 non-null float64\n",
            "vs            32 non-null int64\n",
            "am            32 non-null int64\n",
            "gear          32 non-null int64\n",
            "carb          32 non-null int64\n",
            "dtypes: float64(5), int64(6), object(1)\n",
            "memory usage: 3.1+ KB\n",
            "None\n"
          ],
          "name": "stdout"
        }
      ]
    },
    {
      "cell_type": "code",
      "metadata": {
        "id": "kanrnkoFTG2f",
        "colab_type": "code",
        "colab": {
          "base_uri": "https://localhost:8080/",
          "height": 67
        },
        "outputId": "edf8de0d-bf06-42d5-e3b3-9fb9069aa04c"
      },
      "source": [
        "df1.columns\n"
      ],
      "execution_count": 41,
      "outputs": [
        {
          "output_type": "execute_result",
          "data": {
            "text/plain": [
              "Index(['Unnamed: 0', 'mpg', 'cyl', 'disp', 'hp', 'drat', 'wt', 'qsec', 'vs',\n",
              "       'am', 'gear', 'carb'],\n",
              "      dtype='object')"
            ]
          },
          "metadata": {
            "tags": []
          },
          "execution_count": 41
        }
      ]
    },
    {
      "cell_type": "code",
      "metadata": {
        "id": "C9u8sKujSI1C",
        "colab_type": "code",
        "colab": {
          "base_uri": "https://localhost:8080/",
          "height": 283
        },
        "outputId": "052cf7f1-6b4e-4c0f-df9a-fca2dead9761"
      },
      "source": [
        "df.plot.scatter(y=\"mpg\",x=\"drat\")\n",
        "plt.show()"
      ],
      "execution_count": 56,
      "outputs": [
        {
          "output_type": "display_data",
          "data": {
            "image/png": "[encoded data removed]",
            "text/plain": [
              "<Figure size 432x288 with 1 Axes>"
            ]
          },
          "metadata": {
            "tags": []
          }
        }
      ]
    },
    {
      "cell_type": "code",
      "metadata": {
        "id": "WYipWmAzSpiG",
        "colab_type": "code",
        "colab": {}
      },
      "source": [
        ""
      ],
      "execution_count": 0,
      "outputs": []
    }
  ]
}