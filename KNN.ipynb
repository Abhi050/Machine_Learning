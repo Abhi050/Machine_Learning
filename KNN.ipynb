{
  "nbformat": 4,
  "nbformat_minor": 0,
  "metadata": {
    "colab": {
      "name": "KNN.ipynb",
      "version": "0.3.2",
      "provenance": [],
      "include_colab_link": true
    },
    "kernelspec": {
      "name": "python3",
      "display_name": "Python 3"
    }
  },
  "cells": [
    {
      "cell_type": "markdown",
      "metadata": {
        "id": "view-in-github",
        "colab_type": "text"
      },
      "source": [
        "<a href=\"https://colab.research.google.com/github/Abhi050/Machine_Learning/blob/master/KNN.ipynb\" target=\"_parent\"><img src=\"https://colab.research.google.com/assets/colab-badge.svg\" alt=\"Open In Colab\"/></a>"
      ]
    },
    {
      "metadata": {
        "id": "_GWyAcQXANUj",
        "colab_type": "code",
        "colab": {}
      },
      "cell_type": "code",
      "source": [
        "import pandas as pd\n",
        "import numpy as np\n",
        "import matplotlib.pyplot as plt\n",
        "  "
      ],
      "execution_count": 0,
      "outputs": []
    },
    {
      "metadata": {
        "id": "VffghF_OiFIi",
        "colab_type": "code",
        "colab": {}
      },
      "cell_type": "code",
      "source": [
        "df = pd.read_csv(\"Social_Network_Ads.csv\")\n",
        "x=df.iloc[:,[2,3]].values\n",
        "y=df.iloc[:,4].values\n"
      ],
      "execution_count": 0,
      "outputs": []
    },
    {
      "metadata": {
        "id": "PEuEqZtpiWt_",
        "colab_type": "code",
        "colab": {}
      },
      "cell_type": "code",
      "source": [
        "from sklearn.model_selection import train_test_split\n",
        "train_x,test_x,train_y,test_y=train_test_split(x,y,test_size=0.25,random_state=0)"
      ],
      "execution_count": 0,
      "outputs": []
    },
    {
      "metadata": {
        "id": "V56lSgsFiykf",
        "colab_type": "code",
        "colab": {
          "base_uri": "https://localhost:8080/",
          "height": 138
        },
        "outputId": "a2e8b7e9-630c-4786-f7a1-2aa4aea2ff9e"
      },
      "cell_type": "code",
      "source": [
        "from sklearn.preprocessing import StandardScaler\n",
        "sc=StandardScaler()\n",
        "train_x=sc.fit_transform(train_x)\n",
        "test_x=sc.transform(test_x)"
      ],
      "execution_count": 22,
      "outputs": [
        {
          "output_type": "stream",
          "text": [
            "/usr/local/lib/python3.6/dist-packages/sklearn/utils/validation.py:595: DataConversionWarning: Data with input dtype int64 was converted to float64 by StandardScaler.\n",
            "  warnings.warn(msg, DataConversionWarning)\n",
            "/usr/local/lib/python3.6/dist-packages/sklearn/utils/validation.py:595: DataConversionWarning: Data with input dtype int64 was converted to float64 by StandardScaler.\n",
            "  warnings.warn(msg, DataConversionWarning)\n",
            "/usr/local/lib/python3.6/dist-packages/sklearn/utils/validation.py:595: DataConversionWarning: Data with input dtype int64 was converted to float64 by StandardScaler.\n",
            "  warnings.warn(msg, DataConversionWarning)\n"
          ],
          "name": "stderr"
        }
      ]
    },
    {
      "metadata": {
        "id": "wu6E0sF9jVeJ",
        "colab_type": "code",
        "colab": {
          "base_uri": "https://localhost:8080/",
          "height": 67
        },
        "outputId": "c2d69875-7c97-45f9-f176-9fbc5ba95e3b"
      },
      "cell_type": "code",
      "source": [
        "#Fitting KNN into training set\n",
        "from sklearn.neighbors import KNeighborsClassifier\n",
        "classifier =  KNeighborsClassifier(n_neighbors=5,metric=\"minkowski\",p=2)\n",
        "#p=2 for eucldian and p=1 for manhattam distance\n",
        "classifier.fit(train_x,train_y)"
      ],
      "execution_count": 23,
      "outputs": [
        {
          "output_type": "execute_result",
          "data": {
            "text/plain": [
              "KNeighborsClassifier(algorithm='auto', leaf_size=30, metric='minkowski',\n",
              "           metric_params=None, n_jobs=None, n_neighbors=5, p=2,\n",
              "           weights='uniform')"
            ]
          },
          "metadata": {
            "tags": []
          },
          "execution_count": 23
        }
      ]
    },
    {
      "metadata": {
        "id": "osM60TQIjcgZ",
        "colab_type": "code",
        "colab": {
          "base_uri": "https://localhost:8080/",
          "height": 1714
        },
        "outputId": "01c2a99f-9e58-44be-d245-f3311a5b6bd2"
      },
      "cell_type": "code",
      "source": [
        "pred=classifier.predict(test_x)\n",
        "c=0\n",
        "for i in range(len(pred)):\n",
        "    print(pred[i],\"------\",test_y[i])\n",
        "    if pred[i] == test_y[i]:\n",
        "        c+=1\n",
        "print((c/len(pred))*100)\n",
        "#better accuracy than logistic regression 93>87"
      ],
      "execution_count": 24,
      "outputs": [
        {
          "output_type": "stream",
          "text": [
            "0 ------ 0\n",
            "0 ------ 0\n",
            "0 ------ 0\n",
            "0 ------ 0\n",
            "0 ------ 0\n",
            "0 ------ 0\n",
            "0 ------ 0\n",
            "1 ------ 1\n",
            "0 ------ 0\n",
            "1 ------ 0\n",
            "0 ------ 0\n",
            "0 ------ 0\n",
            "0 ------ 0\n",
            "0 ------ 0\n",
            "0 ------ 0\n",
            "1 ------ 0\n",
            "0 ------ 0\n",
            "0 ------ 0\n",
            "1 ------ 1\n",
            "0 ------ 0\n",
            "0 ------ 0\n",
            "1 ------ 1\n",
            "0 ------ 0\n",
            "1 ------ 1\n",
            "0 ------ 0\n",
            "1 ------ 1\n",
            "0 ------ 0\n",
            "0 ------ 0\n",
            "0 ------ 0\n",
            "0 ------ 0\n",
            "0 ------ 0\n",
            "0 ------ 1\n",
            "1 ------ 1\n",
            "0 ------ 0\n",
            "0 ------ 0\n",
            "0 ------ 0\n",
            "0 ------ 0\n",
            "0 ------ 0\n",
            "0 ------ 0\n",
            "1 ------ 1\n",
            "0 ------ 0\n",
            "0 ------ 0\n",
            "0 ------ 0\n",
            "0 ------ 0\n",
            "1 ------ 1\n",
            "0 ------ 0\n",
            "0 ------ 0\n",
            "1 ------ 1\n",
            "0 ------ 0\n",
            "1 ------ 1\n",
            "1 ------ 1\n",
            "0 ------ 0\n",
            "0 ------ 0\n",
            "1 ------ 0\n",
            "1 ------ 1\n",
            "1 ------ 1\n",
            "0 ------ 0\n",
            "0 ------ 0\n",
            "1 ------ 1\n",
            "0 ------ 0\n",
            "0 ------ 0\n",
            "1 ------ 1\n",
            "0 ------ 0\n",
            "1 ------ 1\n",
            "0 ------ 0\n",
            "1 ------ 1\n",
            "0 ------ 0\n",
            "0 ------ 0\n",
            "0 ------ 0\n",
            "0 ------ 0\n",
            "1 ------ 1\n",
            "0 ------ 0\n",
            "0 ------ 0\n",
            "1 ------ 1\n",
            "0 ------ 0\n",
            "0 ------ 0\n",
            "0 ------ 0\n",
            "0 ------ 0\n",
            "1 ------ 1\n",
            "1 ------ 1\n",
            "1 ------ 1\n",
            "1 ------ 0\n",
            "0 ------ 0\n",
            "0 ------ 0\n",
            "1 ------ 1\n",
            "0 ------ 1\n",
            "0 ------ 0\n",
            "1 ------ 1\n",
            "1 ------ 1\n",
            "0 ------ 0\n",
            "0 ------ 0\n",
            "1 ------ 1\n",
            "0 ------ 0\n",
            "0 ------ 0\n",
            "0 ------ 0\n",
            "0 ------ 1\n",
            "0 ------ 0\n",
            "1 ------ 1\n",
            "1 ------ 1\n",
            "1 ------ 1\n",
            "93.0\n"
          ],
          "name": "stdout"
        }
      ]
    },
    {
      "metadata": {
        "id": "1I2sPMlskvHA",
        "colab_type": "code",
        "colab": {
          "base_uri": "https://localhost:8080/",
          "height": 50
        },
        "outputId": "b8cc980d-558c-414c-9961-2e960f6f1720"
      },
      "cell_type": "code",
      "source": [
        "#Making Confusion Matrix\n",
        "from sklearn.metrics import confusion_matrix\n",
        "cm = confusion_matrix(test_y,pred)\n",
        "print(cm) "
      ],
      "execution_count": 25,
      "outputs": [
        {
          "output_type": "stream",
          "text": [
            "[[64  4]\n",
            " [ 3 29]]\n"
          ],
          "name": "stdout"
        }
      ]
    },
    {
      "metadata": {
        "id": "1xZBraUKky3_",
        "colab_type": "code",
        "colab": {
          "base_uri": "https://localhost:8080/",
          "height": 430
        },
        "outputId": "ff9a1acd-88f4-4c62-a1c7-d77085071489"
      },
      "cell_type": "code",
      "source": [
        "from matplotlib.colors import ListedColormap\n",
        "x_set,y_set = train_x,train_y\n",
        "x1,x2 = np.meshgrid(np.arange(start = x_set[:,0].min()-1,stop = x_set[:,0].max()+1,step=0.01),np.arange(start = x_set[:,1].min()-1,stop = x_set[:,1].max()+1,step=0.01))\n",
        "plt.contourf(x1,x2,classifier.predict(np.array([x1.ravel(),x2.ravel()]).T).reshape(x1.shape),alpha=0.75,cmap=ListedColormap((\"black\",\"white\")))\n",
        "plt.xlim(x1.min(),x1.max())\n",
        "plt.ylim(x2.min(),x2.max())\n",
        "for i,j in enumerate(np.unique(y_set)):\n",
        "    plt.scatter(x_set[y_set ==j,0],x_set[y_set ==j,1],c=ListedColormap((\"red\",\"blue\"))(i),label =j)\n",
        "plt.title(\"KNN\")\n",
        "plt.xlabel(\"Age\")\n",
        "plt.ylabel(\"Estimated Salary\")\n",
        "plt.legend()\n",
        "plt.show()"
      ],
      "execution_count": 26,
      "outputs": [
        {
          "output_type": "stream",
          "text": [
            "'c' argument looks like a single numeric RGB or RGBA sequence, which should be avoided as value-mapping will have precedence in case its length matches with 'x' & 'y'.  Please use a 2-D array with a single row if you really want to specify the same RGB or RGBA value for all points.\n",
            "'c' argument looks like a single numeric RGB or RGBA sequence, which should be avoided as value-mapping will have precedence in case its length matches with 'x' & 'y'.  Please use a 2-D array with a single row if you really want to specify the same RGB or RGBA value for all points.\n"
          ],
          "name": "stderr"
        },
        {
          "output_type": "display_data",
          "data": {
            "image/png": "[encoded data removed]",
            "text/plain": [
              "<Figure size 576x396 with 1 Axes>"
            ]
          },
          "metadata": {
            "tags": []
          }
        }
      ]
    },
    {
      "metadata": {
        "id": "E4jmwmbWlfyV",
        "colab_type": "code",
        "colab": {
          "base_uri": "https://localhost:8080/",
          "height": 430
        },
        "outputId": "8f47415b-8fe3-4cea-ed12-5e2f3bf9813e"
      },
      "cell_type": "code",
      "source": [
        "from matplotlib.colors import ListedColormap\n",
        "x_set,y_set = test_x,test_y\n",
        "x1,x2 = np.meshgrid(np.arange(start = x_set[:,0].min()-1,stop = x_set[:,0].max()+1,step=0.01),np.arange(start = x_set[:,1].min()-1,stop = x_set[:,1].max()+1,step=0.01))\n",
        "plt.contourf(x1,x2,classifier.predict(np.array([x1.ravel(),x2.ravel()]).T).reshape(x1.shape),alpha=0.75,cmap=ListedColormap((\"black\",\"white\")))\n",
        "plt.xlim(x1.min(),x1.max())\n",
        "plt.ylim(x2.min(),x2.max())\n",
        "for i,j in enumerate(np.unique(y_set)):\n",
        "    plt.scatter(x_set[y_set ==j,0],x_set[y_set ==j,1],c=ListedColormap((\"red\",\"blue\"))(i),label =j)\n",
        "plt.title(\"KNN\")\n",
        "plt.xlabel(\"Age\")\n",
        "plt.ylabel(\"Estimated Salary\")\n",
        "plt.legend()\n",
        "plt.show()"
      ],
      "execution_count": 27,
      "outputs": [
        {
          "output_type": "stream",
          "text": [
            "'c' argument looks like a single numeric RGB or RGBA sequence, which should be avoided as value-mapping will have precedence in case its length matches with 'x' & 'y'.  Please use a 2-D array with a single row if you really want to specify the same RGB or RGBA value for all points.\n",
            "'c' argument looks like a single numeric RGB or RGBA sequence, which should be avoided as value-mapping will have precedence in case its length matches with 'x' & 'y'.  Please use a 2-D array with a single row if you really want to specify the same RGB or RGBA value for all points.\n"
          ],
          "name": "stderr"
        },
        {
          "output_type": "display_data",
          "data": {
            "image/png": "[encoded data removed]",
            "text/plain": [
              "<Figure size 576x396 with 1 Axes>"
            ]
          },
          "metadata": {
            "tags": []
          }
        }
      ]
    }
  ]
}