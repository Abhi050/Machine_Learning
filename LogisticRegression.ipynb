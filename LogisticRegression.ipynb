{
  "nbformat": 4,
  "nbformat_minor": 0,
  "metadata": {
    "colab": {
      "name": "LogisticRegression.ipynb",
      "version": "0.3.2",
      "provenance": [],
      "include_colab_link": true
    },
    "kernelspec": {
      "name": "python3",
      "display_name": "Python 3"
    }
  },
  "cells": [
    {
      "cell_type": "markdown",
      "metadata": {
        "id": "view-in-github",
        "colab_type": "text"
      },
      "source": [
        "<a href=\"https://colab.research.google.com/github/Abhi050/Machine_Learning/blob/master/LogisticRegression.ipynb\" target=\"_parent\"><img src=\"https://colab.research.google.com/assets/colab-badge.svg\" alt=\"Open In Colab\"/></a>"
      ]
    },
    {
      "metadata": {
        "id": "5-2T9UtqfGkh",
        "colab_type": "code",
        "colab": {}
      },
      "cell_type": "code",
      "source": [
        "import pandas as pd\n",
        "import numpy as np\n",
        "import matplotlib.pyplot as plt"
      ],
      "execution_count": 0,
      "outputs": []
    },
    {
      "metadata": {
        "id": "YO2mHqd3yKDg",
        "colab_type": "code",
        "colab": {
          "base_uri": "https://localhost:8080/",
          "height": 34
        },
        "outputId": "2aab48e6-9ace-4f20-8ff7-8b098c3fe26f"
      },
      "cell_type": "code",
      "source": [
        "df = pd.read_csv(\"Social_Network_Ads.csv\")\n",
        "#print(len(df))\n",
        "#print(df.head())\n",
        "x=df.iloc[:,[2,3]].values#here only age and estimated salaries are being considered\n",
        "#print(x[1:9])\n",
        "y=df.iloc[:,-1].values\n",
        "#print(y[1:3])"
      ],
      "execution_count": 6,
      "outputs": [
        {
          "output_type": "stream",
          "text": [
            "400\n"
          ],
          "name": "stdout"
        }
      ]
    },
    {
      "metadata": {
        "id": "8uXegrcDy8ie",
        "colab_type": "code",
        "colab": {}
      },
      "cell_type": "code",
      "source": [
        "from sklearn.model_selection import train_test_split\n",
        "train_x,test_x,train_y,test_y = train_test_split(x,y,test_size =0.25,random_state=0)"
      ],
      "execution_count": 0,
      "outputs": []
    },
    {
      "metadata": {
        "id": "JSyIH4G6ze3C",
        "colab_type": "code",
        "colab": {
          "base_uri": "https://localhost:8080/",
          "height": 138
        },
        "outputId": "355192ec-9410-43ca-8e5c-3b88d21c23fb"
      },
      "cell_type": "code",
      "source": [
        "#Feature Sclaing\n",
        "from sklearn.preprocessing import StandardScaler\n",
        "sc_x = StandardScaler()\n",
        "train_x = sc_x.fit_transform(train_x)\n",
        "test_x=sc_x.transform(test_x)"
      ],
      "execution_count": 11,
      "outputs": [
        {
          "output_type": "stream",
          "text": [
            "/usr/local/lib/python3.6/dist-packages/sklearn/utils/validation.py:595: DataConversionWarning: Data with input dtype int64 was converted to float64 by StandardScaler.\n",
            "  warnings.warn(msg, DataConversionWarning)\n",
            "/usr/local/lib/python3.6/dist-packages/sklearn/utils/validation.py:595: DataConversionWarning: Data with input dtype int64 was converted to float64 by StandardScaler.\n",
            "  warnings.warn(msg, DataConversionWarning)\n",
            "/usr/local/lib/python3.6/dist-packages/sklearn/utils/validation.py:595: DataConversionWarning: Data with input dtype int64 was converted to float64 by StandardScaler.\n",
            "  warnings.warn(msg, DataConversionWarning)\n"
          ],
          "name": "stderr"
        }
      ]
    },
    {
      "metadata": {
        "id": "9uNdbzbc09X0",
        "colab_type": "code",
        "colab": {
          "base_uri": "https://localhost:8080/",
          "height": 138
        },
        "outputId": "246c7862-2532-4e36-a5d4-811a4953ba66"
      },
      "cell_type": "code",
      "source": [
        "#Fitting the Logistic Regression \n",
        "from sklearn.linear_model import LogisticRegression\n",
        "classifier = LogisticRegression(random_state = 0)\n",
        "classifier.fit(train_x,train_y)\n"
      ],
      "execution_count": 14,
      "outputs": [
        {
          "output_type": "stream",
          "text": [
            "/usr/local/lib/python3.6/dist-packages/sklearn/linear_model/logistic.py:433: FutureWarning: Default solver will be changed to 'lbfgs' in 0.22. Specify a solver to silence this warning.\n",
            "  FutureWarning)\n"
          ],
          "name": "stderr"
        },
        {
          "output_type": "execute_result",
          "data": {
            "text/plain": [
              "LogisticRegression(C=1.0, class_weight=None, dual=False, fit_intercept=True,\n",
              "          intercept_scaling=1, max_iter=100, multi_class='warn',\n",
              "          n_jobs=None, penalty='l2', random_state=0, solver='warn',\n",
              "          tol=0.0001, verbose=0, warm_start=False)"
            ]
          },
          "metadata": {
            "tags": []
          },
          "execution_count": 14
        }
      ]
    },
    {
      "metadata": {
        "id": "8dlk3k803ikI",
        "colab_type": "code",
        "colab": {
          "base_uri": "https://localhost:8080/",
          "height": 1714
        },
        "outputId": "990568c4-464e-4949-f50a-56dcdcd7cf40"
      },
      "cell_type": "code",
      "source": [
        "#Predicting the test set results\n",
        "pred = classifier.predict(test_x)\n",
        "c=0\n",
        "for i in range(len(pred)):\n",
        "    print(pred[i],\"------\",test_y[i])\n",
        "    if pred[i] == test_y[i]:\n",
        "        c+=1\n",
        "print((c/len(pred))*100)"
      ],
      "execution_count": 22,
      "outputs": [
        {
          "output_type": "stream",
          "text": [
            "0 ------ 0\n",
            "0 ------ 0\n",
            "0 ------ 0\n",
            "0 ------ 0\n",
            "0 ------ 0\n",
            "0 ------ 0\n",
            "0 ------ 0\n",
            "1 ------ 1\n",
            "0 ------ 0\n",
            "1 ------ 0\n",
            "0 ------ 0\n",
            "0 ------ 0\n",
            "0 ------ 0\n",
            "0 ------ 0\n",
            "0 ------ 0\n",
            "0 ------ 0\n",
            "0 ------ 0\n",
            "0 ------ 0\n",
            "1 ------ 1\n",
            "0 ------ 0\n",
            "0 ------ 0\n",
            "1 ------ 1\n",
            "0 ------ 0\n",
            "1 ------ 1\n",
            "0 ------ 0\n",
            "1 ------ 1\n",
            "0 ------ 0\n",
            "0 ------ 0\n",
            "0 ------ 0\n",
            "0 ------ 0\n",
            "0 ------ 0\n",
            "0 ------ 1\n",
            "1 ------ 1\n",
            "0 ------ 0\n",
            "0 ------ 0\n",
            "0 ------ 0\n",
            "0 ------ 0\n",
            "0 ------ 0\n",
            "0 ------ 0\n",
            "1 ------ 1\n",
            "0 ------ 0\n",
            "0 ------ 0\n",
            "0 ------ 0\n",
            "0 ------ 0\n",
            "1 ------ 1\n",
            "0 ------ 0\n",
            "0 ------ 0\n",
            "1 ------ 1\n",
            "0 ------ 0\n",
            "1 ------ 1\n",
            "1 ------ 1\n",
            "0 ------ 0\n",
            "0 ------ 0\n",
            "0 ------ 0\n",
            "1 ------ 1\n",
            "0 ------ 1\n",
            "0 ------ 0\n",
            "0 ------ 0\n",
            "0 ------ 1\n",
            "0 ------ 0\n",
            "0 ------ 0\n",
            "1 ------ 1\n",
            "0 ------ 0\n",
            "0 ------ 1\n",
            "0 ------ 0\n",
            "1 ------ 1\n",
            "0 ------ 0\n",
            "0 ------ 0\n",
            "0 ------ 0\n",
            "0 ------ 0\n",
            "1 ------ 1\n",
            "0 ------ 0\n",
            "0 ------ 0\n",
            "0 ------ 1\n",
            "0 ------ 0\n",
            "0 ------ 0\n",
            "1 ------ 0\n",
            "0 ------ 0\n",
            "1 ------ 1\n",
            "1 ------ 1\n",
            "1 ------ 1\n",
            "1 ------ 0\n",
            "0 ------ 0\n",
            "0 ------ 0\n",
            "1 ------ 1\n",
            "1 ------ 1\n",
            "0 ------ 0\n",
            "1 ------ 1\n",
            "0 ------ 1\n",
            "0 ------ 0\n",
            "0 ------ 0\n",
            "1 ------ 1\n",
            "0 ------ 0\n",
            "0 ------ 0\n",
            "0 ------ 0\n",
            "0 ------ 1\n",
            "0 ------ 0\n",
            "0 ------ 1\n",
            "1 ------ 1\n",
            "1 ------ 1\n",
            "89.0\n"
          ],
          "name": "stdout"
        }
      ]
    },
    {
      "metadata": {
        "id": "ddgz76n95XSH",
        "colab_type": "code",
        "colab": {}
      },
      "cell_type": "code",
      "source": [
        ""
      ],
      "execution_count": 0,
      "outputs": []
    }
  ]
}