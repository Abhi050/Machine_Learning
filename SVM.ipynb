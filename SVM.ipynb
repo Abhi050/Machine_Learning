{
  "nbformat": 4,
  "nbformat_minor": 0,
  "metadata": {
    "colab": {
      "name": "SVM.ipynb",
      "version": "0.3.2",
      "provenance": [],
      "include_colab_link": true
    },
    "kernelspec": {
      "name": "python3",
      "display_name": "Python 3"
    }
  },
  "cells": [
    {
      "cell_type": "markdown",
      "metadata": {
        "id": "view-in-github",
        "colab_type": "text"
      },
      "source": [
        "<a href=\"https://colab.research.google.com/github/Abhi050/Machine_Learning/blob/master/SVM.ipynb\" target=\"_parent\"><img src=\"https://colab.research.google.com/assets/colab-badge.svg\" alt=\"Open In Colab\"/></a>"
      ]
    },
    {
      "metadata": {
        "id": "gFN3Pm-0_9ke",
        "colab_type": "code",
        "colab": {}
      },
      "cell_type": "code",
      "source": [
        "import pandas as pd\n",
        "import numpy as np\n",
        "import matplotlib.pyplot as plt"
      ],
      "execution_count": 0,
      "outputs": []
    },
    {
      "metadata": {
        "id": "E6LhndnLAFQW",
        "colab_type": "code",
        "colab": {}
      },
      "cell_type": "code",
      "source": [
        "df = pd.read_csv(\"Social_Network_Ads.csv\")\n",
        "x=df.iloc[:,[2,3]].values\n",
        "y=df.iloc[:,4].values\n"
      ],
      "execution_count": 0,
      "outputs": []
    },
    {
      "metadata": {
        "id": "NarbaUrFALPA",
        "colab_type": "code",
        "colab": {}
      },
      "cell_type": "code",
      "source": [
        "from sklearn.model_selection import train_test_split\n",
        "train_x,test_x,train_y,test_y=train_test_split(x,y,test_size=0.25,random_state=0)"
      ],
      "execution_count": 0,
      "outputs": []
    },
    {
      "metadata": {
        "id": "ijmbzVx4ANWX",
        "colab_type": "code",
        "colab": {
          "base_uri": "https://localhost:8080/",
          "height": 138
        },
        "outputId": "b6fb4bf2-ec1b-4e69-8780-b7190972294e"
      },
      "cell_type": "code",
      "source": [
        "from sklearn.preprocessing import StandardScaler\n",
        "sc=StandardScaler()\n",
        "train_x=sc.fit_transform(train_x)\n",
        "test_x=sc.transform(test_x)"
      ],
      "execution_count": 17,
      "outputs": [
        {
          "output_type": "stream",
          "text": [
            "/usr/local/lib/python3.6/dist-packages/sklearn/utils/validation.py:595: DataConversionWarning: Data with input dtype int64 was converted to float64 by StandardScaler.\n",
            "  warnings.warn(msg, DataConversionWarning)\n",
            "/usr/local/lib/python3.6/dist-packages/sklearn/utils/validation.py:595: DataConversionWarning: Data with input dtype int64 was converted to float64 by StandardScaler.\n",
            "  warnings.warn(msg, DataConversionWarning)\n",
            "/usr/local/lib/python3.6/dist-packages/sklearn/utils/validation.py:595: DataConversionWarning: Data with input dtype int64 was converted to float64 by StandardScaler.\n",
            "  warnings.warn(msg, DataConversionWarning)\n"
          ],
          "name": "stderr"
        }
      ]
    },
    {
      "metadata": {
        "id": "chpWowfFAP9J",
        "colab_type": "code",
        "colab": {
          "base_uri": "https://localhost:8080/",
          "height": 84
        },
        "outputId": "21eee512-0b76-4b6e-e796-5063549cda89"
      },
      "cell_type": "code",
      "source": [
        "#Fitiing the model using svm\n",
        "from sklearn.svm import SVC\n",
        "classifier=SVC(kernel=\"rbf\",random_state=0)\n",
        "#try kernel = linear,poly,rbf,sigmoid,precomputed or callable\n",
        "classifier.fit(train_x,train_y)\n"
      ],
      "execution_count": 39,
      "outputs": [
        {
          "output_type": "execute_result",
          "data": {
            "text/plain": [
              "SVC(C=1.0, cache_size=200, class_weight=None, coef0=0.0,\n",
              "  decision_function_shape='ovr', degree=3, gamma='auto_deprecated',\n",
              "  kernel='rbf', max_iter=-1, probability=False, random_state=0,\n",
              "  shrinking=True, tol=0.001, verbose=False)"
            ]
          },
          "metadata": {
            "tags": []
          },
          "execution_count": 39
        }
      ]
    },
    {
      "metadata": {
        "id": "3YmDYKo4AX8M",
        "colab_type": "code",
        "colab": {
          "base_uri": "https://localhost:8080/",
          "height": 1714
        },
        "outputId": "dacbbb6a-3550-460c-f0e2-5f8968317e3f"
      },
      "cell_type": "code",
      "source": [
        "pred=classifier.predict(test_x)\n",
        "c=0\n",
        "for i in range(len(pred)):\n",
        "    print(pred[i],\"------\",test_y[i])\n",
        "    if pred[i] == test_y[i]:\n",
        "        c+=1\n",
        "print((c/len(pred))*100)"
      ],
      "execution_count": 40,
      "outputs": [
        {
          "output_type": "stream",
          "text": [
            "0 ------ 0\n",
            "0 ------ 0\n",
            "0 ------ 0\n",
            "0 ------ 0\n",
            "0 ------ 0\n",
            "0 ------ 0\n",
            "0 ------ 0\n",
            "1 ------ 1\n",
            "0 ------ 0\n",
            "1 ------ 0\n",
            "0 ------ 0\n",
            "0 ------ 0\n",
            "0 ------ 0\n",
            "0 ------ 0\n",
            "0 ------ 0\n",
            "1 ------ 0\n",
            "0 ------ 0\n",
            "0 ------ 0\n",
            "1 ------ 1\n",
            "0 ------ 0\n",
            "0 ------ 0\n",
            "1 ------ 1\n",
            "0 ------ 0\n",
            "1 ------ 1\n",
            "0 ------ 0\n",
            "1 ------ 1\n",
            "0 ------ 0\n",
            "0 ------ 0\n",
            "0 ------ 0\n",
            "0 ------ 0\n",
            "0 ------ 0\n",
            "0 ------ 1\n",
            "1 ------ 1\n",
            "0 ------ 0\n",
            "0 ------ 0\n",
            "0 ------ 0\n",
            "0 ------ 0\n",
            "0 ------ 0\n",
            "0 ------ 0\n",
            "1 ------ 1\n",
            "0 ------ 0\n",
            "0 ------ 0\n",
            "0 ------ 0\n",
            "0 ------ 0\n",
            "1 ------ 1\n",
            "0 ------ 0\n",
            "0 ------ 0\n",
            "1 ------ 1\n",
            "0 ------ 0\n",
            "1 ------ 1\n",
            "1 ------ 1\n",
            "0 ------ 0\n",
            "0 ------ 0\n",
            "1 ------ 0\n",
            "1 ------ 1\n",
            "1 ------ 1\n",
            "0 ------ 0\n",
            "0 ------ 0\n",
            "1 ------ 1\n",
            "0 ------ 0\n",
            "0 ------ 0\n",
            "1 ------ 1\n",
            "0 ------ 0\n",
            "1 ------ 1\n",
            "0 ------ 0\n",
            "1 ------ 1\n",
            "0 ------ 0\n",
            "0 ------ 0\n",
            "0 ------ 0\n",
            "0 ------ 0\n",
            "1 ------ 1\n",
            "0 ------ 0\n",
            "0 ------ 0\n",
            "1 ------ 1\n",
            "0 ------ 0\n",
            "0 ------ 0\n",
            "0 ------ 0\n",
            "0 ------ 0\n",
            "1 ------ 1\n",
            "1 ------ 1\n",
            "1 ------ 1\n",
            "1 ------ 0\n",
            "0 ------ 0\n",
            "0 ------ 0\n",
            "1 ------ 1\n",
            "0 ------ 1\n",
            "0 ------ 0\n",
            "1 ------ 1\n",
            "1 ------ 1\n",
            "0 ------ 0\n",
            "0 ------ 0\n",
            "1 ------ 1\n",
            "0 ------ 0\n",
            "0 ------ 0\n",
            "0 ------ 0\n",
            "0 ------ 1\n",
            "0 ------ 0\n",
            "1 ------ 1\n",
            "1 ------ 1\n",
            "1 ------ 1\n",
            "93.0\n"
          ],
          "name": "stdout"
        }
      ]
    },
    {
      "metadata": {
        "id": "Wx_Wn9SfAY0w",
        "colab_type": "code",
        "colab": {
          "base_uri": "https://localhost:8080/",
          "height": 50
        },
        "outputId": "c6eb2f9f-2830-41be-bf49-fca4bace67a5"
      },
      "cell_type": "code",
      "source": [
        "#Making Confusion Matrix\n",
        "from sklearn.metrics import confusion_matrix\n",
        "cm = confusion_matrix(test_y,pred)\n",
        "print(cm) "
      ],
      "execution_count": 41,
      "outputs": [
        {
          "output_type": "stream",
          "text": [
            "[[64  4]\n",
            " [ 3 29]]\n"
          ],
          "name": "stdout"
        }
      ]
    },
    {
      "metadata": {
        "id": "TP5gkCuGAcu4",
        "colab_type": "code",
        "colab": {
          "base_uri": "https://localhost:8080/",
          "height": 430
        },
        "outputId": "afb5f9b8-389e-4c5a-a57e-b9b325d8fe9d"
      },
      "cell_type": "code",
      "source": [
        "from matplotlib.colors import ListedColormap\n",
        "x_set,y_set = train_x,train_y\n",
        "x1,x2 = np.meshgrid(np.arange(start = x_set[:,0].min()-1,stop = x_set[:,0].max()+1,step=0.01),np.arange(start = x_set[:,1].min()-1,stop = x_set[:,1].max()+1,step=0.01))\n",
        "plt.contourf(x1,x2,classifier.predict(np.array([x1.ravel(),x2.ravel()]).T).reshape(x1.shape),alpha=0.75,cmap=ListedColormap((\"black\",\"white\")))\n",
        "plt.xlim(x1.min(),x1.max())\n",
        "plt.ylim(x2.min(),x2.max())\n",
        "for i,j in enumerate(np.unique(y_set)):\n",
        "    plt.scatter(x_set[y_set ==j,0],x_set[y_set ==j,1],c=ListedColormap((\"red\",\"blue\"))(i),label =j)\n",
        "plt.title(\"SVM\")\n",
        "plt.xlabel(\"Age\")\n",
        "plt.ylabel(\"Estimated Salary\")\n",
        "plt.legend()\n",
        "plt.show()"
      ],
      "execution_count": 42,
      "outputs": [
        {
          "output_type": "stream",
          "text": [
            "'c' argument looks like a single numeric RGB or RGBA sequence, which should be avoided as value-mapping will have precedence in case its length matches with 'x' & 'y'.  Please use a 2-D array with a single row if you really want to specify the same RGB or RGBA value for all points.\n",
            "'c' argument looks like a single numeric RGB or RGBA sequence, which should be avoided as value-mapping will have precedence in case its length matches with 'x' & 'y'.  Please use a 2-D array with a single row if you really want to specify the same RGB or RGBA value for all points.\n"
          ],
          "name": "stderr"
        },
        {
          "output_type": "display_data",
          "data": {
            "image/png": "[encoded data removed]",
            "text/plain": [
              "<Figure size 576x396 with 1 Axes>"
            ]
          },
          "metadata": {
            "tags": []
          }
        }
      ]
    },
    {
      "metadata": {
        "id": "evGRQwskAflW",
        "colab_type": "code",
        "colab": {
          "base_uri": "https://localhost:8080/",
          "height": 430
        },
        "outputId": "4146cb37-7def-4232-b5b3-c376744244f9"
      },
      "cell_type": "code",
      "source": [
        "from matplotlib.colors import ListedColormap\n",
        "x_set,y_set = test_x,test_y\n",
        "x1,x2 = np.meshgrid(np.arange(start = x_set[:,0].min()-1,stop = x_set[:,0].max()+1,step=0.01),np.arange(start = x_set[:,1].min()-1,stop = x_set[:,1].max()+1,step=0.01))\n",
        "plt.contourf(x1,x2,classifier.predict(np.array([x1.ravel(),x2.ravel()]).T).reshape(x1.shape),alpha=0.75,cmap=ListedColormap((\"black\",\"white\")))\n",
        "plt.xlim(x1.min(),x1.max())\n",
        "plt.ylim(x2.min(),x2.max())\n",
        "for i,j in enumerate(np.unique(y_set)):\n",
        "    plt.scatter(x_set[y_set ==j,0],x_set[y_set ==j,1],c=ListedColormap((\"red\",\"blue\"))(i),label =j)\n",
        "plt.title(\"SVM\")\n",
        "plt.xlabel(\"Age\")\n",
        "plt.ylabel(\"Estimated Salary\")\n",
        "plt.legend()\n",
        "plt.show()"
      ],
      "execution_count": 43,
      "outputs": [
        {
          "output_type": "stream",
          "text": [
            "'c' argument looks like a single numeric RGB or RGBA sequence, which should be avoided as value-mapping will have precedence in case its length matches with 'x' & 'y'.  Please use a 2-D array with a single row if you really want to specify the same RGB or RGBA value for all points.\n",
            "'c' argument looks like a single numeric RGB or RGBA sequence, which should be avoided as value-mapping will have precedence in case its length matches with 'x' & 'y'.  Please use a 2-D array with a single row if you really want to specify the same RGB or RGBA value for all points.\n"
          ],
          "name": "stderr"
        },
        {
          "output_type": "display_data",
          "data": {
            "image/png": "[encoded data removed]",
            "text/plain": [
              "<Figure size 576x396 with 1 Axes>"
            ]
          },
          "metadata": {
            "tags": []
          }
        }
      ]
    }
  ]
}