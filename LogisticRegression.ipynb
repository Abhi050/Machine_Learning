{
  "nbformat": 4,
  "nbformat_minor": 0,
  "metadata": {
    "colab": {
      "name": "LogisticRegression.ipynb",
      "version": "0.3.2",
      "provenance": [],
      "include_colab_link": true
    },
    "kernelspec": {
      "name": "python3",
      "display_name": "Python 3"
    }
  },
  "cells": [
    {
      "cell_type": "markdown",
      "metadata": {
        "id": "view-in-github",
        "colab_type": "text"
      },
      "source": [
        "<a href=\"https://colab.research.google.com/github/Abhi050/Machine_Learning/blob/master/LogisticRegression.ipynb\" target=\"_parent\"><img src=\"https://colab.research.google.com/assets/colab-badge.svg\" alt=\"Open In Colab\"/></a>"
      ]
    },
    {
      "metadata": {
        "id": "5-2T9UtqfGkh",
        "colab_type": "code",
        "colab": {}
      },
      "cell_type": "code",
      "source": [
        "import pandas as pd\n",
        "import numpy as np\n",
        "import matplotlib.pyplot as plt"
      ],
      "execution_count": 0,
      "outputs": []
    },
    {
      "metadata": {
        "id": "YO2mHqd3yKDg",
        "colab_type": "code",
        "colab": {
          "base_uri": "https://localhost:8080/",
          "height": 34
        },
        "outputId": "2aab48e6-9ace-4f20-8ff7-8b098c3fe26f"
      },
      "cell_type": "code",
      "source": [
        "df = pd.read_csv(\"Social_Network_Ads.csv\")\n",
        "#print(len(df))\n",
        "#print(df.head())\n",
        "x=df.iloc[:,[2,3]].values#here only age and estimated salaries are being considered\n",
        "#print(x[1:9])\n",
        "y=df.iloc[:,-1].values\n",
        "#print(y[1:3])"
      ],
      "execution_count": 6,
      "outputs": [
        {
          "output_type": "stream",
          "text": [
            "400\n"
          ],
          "name": "stdout"
        }
      ]
    },
    {
      "metadata": {
        "id": "8uXegrcDy8ie",
        "colab_type": "code",
        "colab": {}
      },
      "cell_type": "code",
      "source": [
        "from sklearn.model_selection import train_test_split\n",
        "train_x,test_x,train_y,test_y = train_test_split(x,y,test_size =0.25,random_state=0)"
      ],
      "execution_count": 0,
      "outputs": []
    },
    {
      "metadata": {
        "id": "JSyIH4G6ze3C",
        "colab_type": "code",
        "colab": {
          "base_uri": "https://localhost:8080/",
          "height": 138
        },
        "outputId": "355192ec-9410-43ca-8e5c-3b88d21c23fb"
      },
      "cell_type": "code",
      "source": [
        "#Feature Sclaing\n",
        "from sklearn.preprocessing import StandardScaler\n",
        "sc_x = StandardScaler()\n",
        "train_x = sc_x.fit_transform(train_x)\n",
        "test_x=sc_x.transform(test_x)"
      ],
      "execution_count": 11,
      "outputs": [
        {
          "output_type": "stream",
          "text": [
            "/usr/local/lib/python3.6/dist-packages/sklearn/utils/validation.py:595: DataConversionWarning: Data with input dtype int64 was converted to float64 by StandardScaler.\n",
            "  warnings.warn(msg, DataConversionWarning)\n",
            "/usr/local/lib/python3.6/dist-packages/sklearn/utils/validation.py:595: DataConversionWarning: Data with input dtype int64 was converted to float64 by StandardScaler.\n",
            "  warnings.warn(msg, DataConversionWarning)\n",
            "/usr/local/lib/python3.6/dist-packages/sklearn/utils/validation.py:595: DataConversionWarning: Data with input dtype int64 was converted to float64 by StandardScaler.\n",
            "  warnings.warn(msg, DataConversionWarning)\n"
          ],
          "name": "stderr"
        }
      ]
    },
    {
      "metadata": {
        "id": "9uNdbzbc09X0",
        "colab_type": "code",
        "colab": {
          "base_uri": "https://localhost:8080/",
          "height": 138
        },
        "outputId": "246c7862-2532-4e36-a5d4-811a4953ba66"
      },
      "cell_type": "code",
      "source": [
        "#Fitting the Logistic Regression \n",
        "from sklearn.linear_model import LogisticRegression\n",
        "classifier = LogisticRegression(random_state = 0)\n",
        "classifier.fit(train_x,train_y)\n"
      ],
      "execution_count": 14,
      "outputs": [
        {
          "output_type": "stream",
          "text": [
            "/usr/local/lib/python3.6/dist-packages/sklearn/linear_model/logistic.py:433: FutureWarning: Default solver will be changed to 'lbfgs' in 0.22. Specify a solver to silence this warning.\n",
            "  FutureWarning)\n"
          ],
          "name": "stderr"
        },
        {
          "output_type": "execute_result",
          "data": {
            "text/plain": [
              "LogisticRegression(C=1.0, class_weight=None, dual=False, fit_intercept=True,\n",
              "          intercept_scaling=1, max_iter=100, multi_class='warn',\n",
              "          n_jobs=None, penalty='l2', random_state=0, solver='warn',\n",
              "          tol=0.0001, verbose=0, warm_start=False)"
            ]
          },
          "metadata": {
            "tags": []
          },
          "execution_count": 14
        }
      ]
    },
    {
      "metadata": {
        "id": "8dlk3k803ikI",
        "colab_type": "code",
        "colab": {
          "base_uri": "https://localhost:8080/",
          "height": 1714
        },
        "outputId": "990568c4-464e-4949-f50a-56dcdcd7cf40"
      },
      "cell_type": "code",
      "source": [
        "#Predicting the test set results\n",
        "pred = classifier.predict(test_x)\n",
        "c=0\n",
        "for i in range(len(pred)):\n",
        "    print(pred[i],\"------\",test_y[i])\n",
        "    if pred[i] == test_y[i]:\n",
        "        c+=1\n",
        "print((c/len(pred))*100)"
      ],
      "execution_count": 22,
      "outputs": [
        {
          "output_type": "stream",
          "text": [
            "0 ------ 0\n",
            "0 ------ 0\n",
            "0 ------ 0\n",
            "0 ------ 0\n",
            "0 ------ 0\n",
            "0 ------ 0\n",
            "0 ------ 0\n",
            "1 ------ 1\n",
            "0 ------ 0\n",
            "1 ------ 0\n",
            "0 ------ 0\n",
            "0 ------ 0\n",
            "0 ------ 0\n",
            "0 ------ 0\n",
            "0 ------ 0\n",
            "0 ------ 0\n",
            "0 ------ 0\n",
            "0 ------ 0\n",
            "1 ------ 1\n",
            "0 ------ 0\n",
            "0 ------ 0\n",
            "1 ------ 1\n",
            "0 ------ 0\n",
            "1 ------ 1\n",
            "0 ------ 0\n",
            "1 ------ 1\n",
            "0 ------ 0\n",
            "0 ------ 0\n",
            "0 ------ 0\n",
            "0 ------ 0\n",
            "0 ------ 0\n",
            "0 ------ 1\n",
            "1 ------ 1\n",
            "0 ------ 0\n",
            "0 ------ 0\n",
            "0 ------ 0\n",
            "0 ------ 0\n",
            "0 ------ 0\n",
            "0 ------ 0\n",
            "1 ------ 1\n",
            "0 ------ 0\n",
            "0 ------ 0\n",
            "0 ------ 0\n",
            "0 ------ 0\n",
            "1 ------ 1\n",
            "0 ------ 0\n",
            "0 ------ 0\n",
            "1 ------ 1\n",
            "0 ------ 0\n",
            "1 ------ 1\n",
            "1 ------ 1\n",
            "0 ------ 0\n",
            "0 ------ 0\n",
            "0 ------ 0\n",
            "1 ------ 1\n",
            "0 ------ 1\n",
            "0 ------ 0\n",
            "0 ------ 0\n",
            "0 ------ 1\n",
            "0 ------ 0\n",
            "0 ------ 0\n",
            "1 ------ 1\n",
            "0 ------ 0\n",
            "0 ------ 1\n",
            "0 ------ 0\n",
            "1 ------ 1\n",
            "0 ------ 0\n",
            "0 ------ 0\n",
            "0 ------ 0\n",
            "0 ------ 0\n",
            "1 ------ 1\n",
            "0 ------ 0\n",
            "0 ------ 0\n",
            "0 ------ 1\n",
            "0 ------ 0\n",
            "0 ------ 0\n",
            "1 ------ 0\n",
            "0 ------ 0\n",
            "1 ------ 1\n",
            "1 ------ 1\n",
            "1 ------ 1\n",
            "1 ------ 0\n",
            "0 ------ 0\n",
            "0 ------ 0\n",
            "1 ------ 1\n",
            "1 ------ 1\n",
            "0 ------ 0\n",
            "1 ------ 1\n",
            "0 ------ 1\n",
            "0 ------ 0\n",
            "0 ------ 0\n",
            "1 ------ 1\n",
            "0 ------ 0\n",
            "0 ------ 0\n",
            "0 ------ 0\n",
            "0 ------ 1\n",
            "0 ------ 0\n",
            "0 ------ 1\n",
            "1 ------ 1\n",
            "1 ------ 1\n",
            "89.0\n"
          ],
          "name": "stdout"
        }
      ]
    },
    {
      "metadata": {
        "id": "ddgz76n95XSH",
        "colab_type": "code",
        "colab": {
          "base_uri": "https://localhost:8080/",
          "height": 50
        },
        "outputId": "800c15d2-c81c-4539-b28c-f016ef9cfa84"
      },
      "cell_type": "code",
      "source": [
        "#Making Confusion Matrix\n",
        "from sklearn.metrics import confusion_matrix\n",
        "cm = confusion_matrix(test_y,pred)\n",
        "print(cm)\n",
        "#65 and 24 are correct prediction\n",
        "#8+3 = 11 are the number of incorrect prediction"
      ],
      "execution_count": 25,
      "outputs": [
        {
          "output_type": "stream",
          "text": [
            "[[65  3]\n",
            " [ 8 24]]\n"
          ],
          "name": "stdout"
        }
      ]
    },
    {
      "metadata": {
        "id": "WB6ZgCG76MXh",
        "colab_type": "code",
        "colab": {
          "base_uri": "https://localhost:8080/",
          "height": 430
        },
        "outputId": "a799858f-0e64-4cdc-a211-a3aed3a3ea87"
      },
      "cell_type": "code",
      "source": [
        "#visualising the training set\n",
        "from matplotlib.colors import ListedColormap\n",
        "x_set,y_set = train_x,train_y\n",
        "x1,x2 = np.meshgrid(np.arange(start = x_set[:,0].min()-1,stop = x_set[:,0].max()+1,step=0.01),np.arange(start = x_set[:,1].min()-1,stop = x_set[:,1].max()+1,step=0.01))\n",
        "plt.contourf(x1,x2,classifier.predict(np.array([x1.ravel(),x2.ravel()]).T).reshape(x1.shape),alpha=0.75,cmap=ListedColormap((\"black\",\"white\")))\n",
        "plt.xlim(x1.min(),x1.max())\n",
        "plt.ylim(x2.min(),x2.max())\n",
        "for i,j in enumerate(np.unique(y_set)):\n",
        "    plt.scatter(x_set[y_set ==j,0],x_set[y_set ==j,1],c=ListedColormap((\"red\",\"blue\"))(i),label =j)\n",
        "plt.title(\"logistic regression\")\n",
        "plt.xlabel(\"Age\")\n",
        "plt.ylabel(\"Estimated Salary\")\n",
        "plt.legend()\n",
        "plt.show()"
      ],
      "execution_count": 29,
      "outputs": [
        {
          "output_type": "stream",
          "text": [
            "'c' argument looks like a single numeric RGB or RGBA sequence, which should be avoided as value-mapping will have precedence in case its length matches with 'x' & 'y'.  Please use a 2-D array with a single row if you really want to specify the same RGB or RGBA value for all points.\n",
            "'c' argument looks like a single numeric RGB or RGBA sequence, which should be avoided as value-mapping will have precedence in case its length matches with 'x' & 'y'.  Please use a 2-D array with a single row if you really want to specify the same RGB or RGBA value for all points.\n"
          ],
          "name": "stderr"
        },
        {
          "output_type": "display_data",
          "data": {
            "image/png": "[encoded data removed]",
            "text/plain": [
              "<Figure size 576x396 with 1 Axes>"
            ]
          },
          "metadata": {
            "tags": []
          }
        }
      ]
    },
    {
      "metadata": {
        "id": "LoitTgMF-5dB",
        "colab_type": "code",
        "colab": {
          "base_uri": "https://localhost:8080/",
          "height": 430
        },
        "outputId": "74638b7d-af1e-428f-c2ae-3e814ca293d9"
      },
      "cell_type": "code",
      "source": [
        "#Visualising the testing set\n",
        "#visualising the training set\n",
        "from matplotlib.colors import ListedColormap\n",
        "x_set,y_set = test_x,test_y\n",
        "x1,x2 = np.meshgrid(np.arange(start = x_set[:,0].min()-1,stop = x_set[:,0].max()+1,step=0.01),np.arange(start = x_set[:,1].min()-1,stop = x_set[:,1].max()+1,step=0.01))\n",
        "plt.contourf(x1,x2,classifier.predict(np.array([x1.ravel(),x2.ravel()]).T).reshape(x1.shape),alpha=0.75,cmap=ListedColormap((\"black\",\"white\")))\n",
        "plt.xlim(x1.min(),x1.max())\n",
        "plt.ylim(x2.min(),x2.max())\n",
        "for i,j in enumerate(np.unique(y_set)):\n",
        "    plt.scatter(x_set[y_set ==j,0],x_set[y_set ==j,1],c=ListedColormap((\"red\",\"blue\"))(i),label =j)\n",
        "plt.title(\"logistic regression\")\n",
        "plt.xlabel(\"Age\")\n",
        "plt.ylabel(\"Estimated Salary\")\n",
        "plt.legend()\n",
        "plt.show()"
      ],
      "execution_count": 30,
      "outputs": [
        {
          "output_type": "stream",
          "text": [
            "'c' argument looks like a single numeric RGB or RGBA sequence, which should be avoided as value-mapping will have precedence in case its length matches with 'x' & 'y'.  Please use a 2-D array with a single row if you really want to specify the same RGB or RGBA value for all points.\n",
            "'c' argument looks like a single numeric RGB or RGBA sequence, which should be avoided as value-mapping will have precedence in case its length matches with 'x' & 'y'.  Please use a 2-D array with a single row if you really want to specify the same RGB or RGBA value for all points.\n"
          ],
          "name": "stderr"
        },
        {
          "output_type": "display_data",
          "data": {
            "image/png": "[encoded data removed]",
            "text/plain": [
              "<Figure size 576x396 with 1 Axes>"
            ]
          },
          "metadata": {
            "tags": []
          }
        }
      ]
    }
  ]
}